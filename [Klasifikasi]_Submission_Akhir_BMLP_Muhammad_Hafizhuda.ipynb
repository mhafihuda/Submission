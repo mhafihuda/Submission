{
  "nbformat": 4,
  "nbformat_minor": 0,
  "metadata": {
    "colab": {
      "provenance": []
    },
    "kernelspec": {
      "name": "python3",
      "display_name": "Python 3"
    },
    "language_info": {
      "name": "python"
    }
  },
  "cells": [
    {
      "cell_type": "markdown",
      "source": [
        "# **1. Import Library**"
      ],
      "metadata": {
        "id": "fKADPWcFKlj3"
      }
    },
    {
      "cell_type": "markdown",
      "source": [
        "Pada tahap ini, Anda perlu mengimpor beberapa pustaka (library) Python yang dibutuhkan untuk analisis data dan pembangunan model machine learning."
      ],
      "metadata": {
        "id": "LgA3ERnVn84N"
      }
    },
    {
      "cell_type": "code",
      "source": [
        "import pandas as pd\n",
        "import numpy as np\n",
        "from sklearn.model_selection import train_test_split\n",
        "from sklearn.preprocessing import StandardScaler\n",
        "from sklearn.linear_model import LogisticRegression\n",
        "from sklearn.tree import DecisionTreeClassifier\n",
        "from sklearn.ensemble import RandomForestClassifier\n",
        "from sklearn.neighbors import KNeighborsClassifier\n",
        "from sklearn.metrics import accuracy_score, f1_score, confusion_matrix, classification_report\n",
        "from sklearn.model_selection import GridSearchCV"
      ],
      "metadata": {
        "id": "BlmvjLY9M4Yj"
      },
      "execution_count": 1,
      "outputs": []
    },
    {
      "cell_type": "markdown",
      "source": [
        "# **2. Memuat Dataset dari Hasil Clustering**"
      ],
      "metadata": {
        "id": "f3YIEnAFKrKL"
      }
    },
    {
      "cell_type": "markdown",
      "source": [
        "Memuat dataset hasil clustering dari file CSV ke dalam variabel DataFrame."
      ],
      "metadata": {
        "id": "Ey3ItwTen_7E"
      }
    },
    {
      "cell_type": "code",
      "source": [
        "df = pd.read_csv('pengeluaran_clustered.csv')\n",
        "print(\"5 Baris Pertama Dataset:\")\n",
        "print(df.head())"
      ],
      "metadata": {
        "id": "GHCGNTyrM5fS",
        "colab": {
          "base_uri": "https://localhost:8080/"
        },
        "outputId": "c8f2375e-1fe6-46db-d2bf-dc8c36b01112"
      },
      "execution_count": 3,
      "outputs": [
        {
          "output_type": "stream",
          "name": "stdout",
          "text": [
            "5 Baris Pertama Dataset:\n",
            "   provinsi    daerah     jenis     tahun      peng  Cluster\n",
            "0 -1.683251 -1.172604 -1.224745 -1.822033 -1.159879        2\n",
            "1 -1.683251 -1.172604 -1.224745 -1.595566 -1.092133        2\n",
            "2 -1.683251 -1.172604 -1.224745 -1.369098 -1.009920        2\n",
            "3 -1.683251 -1.172604 -1.224745 -1.142631 -0.928637        2\n",
            "4 -1.683251 -1.172604 -1.224745 -0.916164 -0.836078        2\n"
          ]
        }
      ]
    },
    {
      "cell_type": "markdown",
      "source": [
        "# **3. Data Splitting**"
      ],
      "metadata": {
        "id": "KkPem5eWL2UP"
      }
    },
    {
      "cell_type": "markdown",
      "source": [
        "Tahap Data Splitting bertujuan untuk memisahkan dataset menjadi dua bagian: data latih (training set) dan data uji (test set)."
      ],
      "metadata": {
        "id": "YYj1rl_JNI9Y"
      }
    },
    {
      "cell_type": "code",
      "source": [
        "X = df.drop(columns=['Cluster'])\n",
        "y = df['Cluster']\n",
        "\n",
        "X_train, X_test, y_train, y_test = train_test_split(X, y, test_size=0.2, random_state=42)\n",
        "print(\"\\nUkuran Data Latih:\", X_train.shape)\n",
        "print(\"Ukuran Data Uji:\", X_test.shape)"
      ],
      "metadata": {
        "id": "OubAW-7ONKVj",
        "colab": {
          "base_uri": "https://localhost:8080/"
        },
        "outputId": "0477e3f5-ce1c-40be-c36e-2dc38f194662"
      },
      "execution_count": 4,
      "outputs": [
        {
          "output_type": "stream",
          "name": "stdout",
          "text": [
            "\n",
            "Ukuran Data Latih: (3696, 5)\n",
            "Ukuran Data Uji: (924, 5)\n"
          ]
        }
      ]
    },
    {
      "cell_type": "markdown",
      "source": [
        "# **4. Membangun Model Klasifikasi**\n"
      ],
      "metadata": {
        "id": "IVPbB03CMhTT"
      }
    },
    {
      "cell_type": "markdown",
      "source": [
        "## **a. Membangun Model Klasifikasi**"
      ],
      "metadata": {
        "id": "Ned1pL9zMmBK"
      }
    },
    {
      "cell_type": "markdown",
      "source": [
        "Setelah memilih algoritma klasifikasi yang sesuai, langkah selanjutnya adalah melatih model menggunakan data latih.\n",
        "\n",
        "Berikut adalah rekomendasi tahapannya.\n",
        "1. Pilih algoritma klasifikasi yang sesuai, seperti Logistic Regression, Decision Tree, Random Forest, atau K-Nearest Neighbors (KNN).\n",
        "2. Latih model menggunakan data latih."
      ],
      "metadata": {
        "id": "WAWzPOE4Nkti"
      }
    },
    {
      "cell_type": "code",
      "source": [
        "model = RandomForestClassifier(random_state=42)\n",
        "model.fit(X_train, y_train)\n",
        "y_pred = model.predict(X_test)\n",
        "\n",
        "print(\"\\nHasil Prediksi:\")\n",
        "print(y_pred)"
      ],
      "metadata": {
        "id": "4JYxBe87NLDk",
        "colab": {
          "base_uri": "https://localhost:8080/"
        },
        "outputId": "e9d4f29e-74e0-47a7-ac3a-c7a80f12776d"
      },
      "execution_count": 5,
      "outputs": [
        {
          "output_type": "stream",
          "name": "stdout",
          "text": [
            "\n",
            "Hasil Prediksi:\n",
            "[0 2 0 2 2 1 2 2 2 1 0 0 2 1 0 2 1 2 1 2 0 2 2 0 0 2 2 1 1 0 0 2 0 0 1 0 2\n",
            " 1 2 0 2 1 2 0 1 2 0 1 0 1 2 0 2 0 2 1 1 1 2 0 0 2 1 0 2 2 0 0 0 0 1 0 2 0\n",
            " 1 2 0 0 2 2 1 2 0 0 2 1 0 2 0 1 1 2 0 1 2 0 2 1 0 0 0 2 2 2 0 0 0 0 2 2 2\n",
            " 0 0 1 1 2 0 1 2 1 1 2 2 1 2 0 0 2 2 2 0 0 1 2 0 2 0 0 2 2 1 0 0 2 0 2 2 1\n",
            " 0 1 0 0 0 2 0 2 0 2 0 2 0 0 0 1 0 0 1 1 0 1 1 0 1 0 2 2 2 0 2 2 0 0 1 2 0\n",
            " 1 2 0 2 0 1 1 1 0 0 2 1 1 2 0 0 1 2 2 2 2 0 2 1 1 2 2 2 0 2 2 0 2 2 0 0 2\n",
            " 0 2 2 0 2 0 2 1 2 0 0 0 1 2 0 1 0 2 1 0 2 0 0 1 2 0 2 0 2 0 2 2 0 2 0 1 2\n",
            " 1 1 0 2 2 2 0 0 2 2 0 1 2 0 1 1 1 2 1 1 2 2 2 2 1 0 0 2 2 1 2 1 0 0 2 2 1\n",
            " 2 0 0 0 0 2 2 2 2 2 2 2 2 1 0 1 1 2 2 0 0 2 0 2 2 0 0 1 2 1 1 2 0 0 1 2 2\n",
            " 2 0 0 2 2 1 2 2 2 2 0 2 2 2 1 2 1 2 0 0 2 2 0 0 1 0 1 0 0 0 2 1 2 1 2 1 2\n",
            " 0 1 0 2 0 1 2 2 2 2 2 0 1 0 1 2 2 2 2 0 2 0 2 0 1 0 2 0 2 2 1 0 0 1 0 1 1\n",
            " 0 0 0 0 0 0 1 2 2 2 0 1 0 2 0 1 0 2 2 0 0 0 0 0 0 0 0 2 0 1 0 0 0 0 1 1 2\n",
            " 0 2 0 0 1 2 2 1 1 1 2 2 0 0 2 1 0 0 0 0 0 0 1 0 1 0 0 0 1 2 1 0 1 0 0 2 0\n",
            " 2 0 0 1 1 2 0 2 1 0 0 1 1 0 2 2 1 1 2 2 0 1 0 0 2 0 2 2 0 0 0 2 0 1 0 0 2\n",
            " 1 2 1 0 1 0 1 0 1 2 0 2 1 2 2 1 2 1 2 1 0 0 0 0 0 2 2 0 2 0 0 0 0 2 1 2 1\n",
            " 1 1 1 0 1 0 0 2 1 2 2 0 0 0 2 0 0 2 0 0 2 2 2 2 0 1 0 1 0 2 1 0 2 1 1 2 1\n",
            " 0 2 0 0 2 1 1 0 0 1 0 0 0 0 0 2 2 2 2 0 1 0 1 1 2 2 1 0 0 2 1 0 1 0 0 2 1\n",
            " 0 0 2 2 0 2 1 2 2 0 2 2 2 0 2 1 0 1 2 1 2 1 2 2 2 0 2 2 0 0 0 0 1 1 0 2 1\n",
            " 2 0 1 0 1 0 2 1 1 0 1 2 1 1 1 2 1 2 0 1 2 0 2 1 2 2 2 2 0 2 0 1 0 0 0 0 2\n",
            " 1 0 0 1 0 2 0 0 2 1 0 0 2 1 1 2 0 2 2 2 0 0 1 0 1 2 0 1 1 0 1 0 0 0 1 0 2\n",
            " 1 0 1 1 0 2 2 2 0 1 1 0 2 1 1 0 2 0 1 2 1 0 1 0 2 2 1 2 2 1 0 2 2 0 2 2 0\n",
            " 2 0 0 2 2 0 0 2 0 0 1 0 0 1 0 2 1 2 2 2 1 0 2 2 0 0 0 0 1 1 1 2 0 2 2 1 0\n",
            " 2 0 0 0 0 1 1 1 0 1 2 2 0 2 2 1 2 2 1 0 2 2 2 0 2 2 0 1 1 1 2 2 2 2 0 2 1\n",
            " 2 0 0 0 2 1 0 2 0 0 2 2 1 0 1 0 1 1 2 1 2 0 2 1 1 1 2 0 0 2 0 1 0 1 0 2 0\n",
            " 2 1 0 0 0 1 2 2 0 2 2 0 0 2 1 2 2 2 0 2 2 1 1 0 2 2 0 2 0 2 2 1 1 2 1 2]\n"
          ]
        }
      ]
    },
    {
      "cell_type": "markdown",
      "source": [
        "Tulis narasi atau penjelasan algoritma yang Anda gunakan."
      ],
      "metadata": {
        "id": "seYoHNY3XU1y"
      }
    },
    {
      "cell_type": "markdown",
      "source": [
        "## **b. Evaluasi Model Klasifikasi**"
      ],
      "metadata": {
        "id": "ergzChZFEL-O"
      }
    },
    {
      "cell_type": "markdown",
      "source": [
        "Berikut adalah **rekomendasi** tahapannya.\n",
        "1. Lakukan prediksi menggunakan data uji.\n",
        "2. Hitung metrik evaluasi seperti Accuracy dan F1-Score (Opsional: Precision dan Recall).\n",
        "3. Buat confusion matrix untuk melihat detail prediksi benar dan salah."
      ],
      "metadata": {
        "id": "zOm68u-7NpLT"
      }
    },
    {
      "cell_type": "code",
      "source": [
        "accuracy = accuracy_score(y_test, y_pred)\n",
        "f1 = f1_score(y_test, y_pred, average='weighted')\n",
        "\n",
        "print(\"\\nEvaluasi Model:\")\n",
        "print(f\"Accuracy: {accuracy:.2f}\")\n",
        "print(f\"F1-Score: {f1:.2f}\")\n",
        "print(\"\\nConfusion Matrix:\")\n",
        "print(confusion_matrix(y_test, y_pred))\n",
        "print(\"\\nClassification Report:\")\n",
        "print(classification_report(y_test, y_pred))"
      ],
      "metadata": {
        "id": "tMq4QAssNLip",
        "colab": {
          "base_uri": "https://localhost:8080/"
        },
        "outputId": "beaa47c6-467b-4a60-988d-6922472580ea"
      },
      "execution_count": 6,
      "outputs": [
        {
          "output_type": "stream",
          "name": "stdout",
          "text": [
            "\n",
            "Evaluasi Model:\n",
            "Accuracy: 0.99\n",
            "F1-Score: 0.99\n",
            "\n",
            "Confusion Matrix:\n",
            "[[352   0   1]\n",
            " [  0 227   2]\n",
            " [  1   3 338]]\n",
            "\n",
            "Classification Report:\n",
            "              precision    recall  f1-score   support\n",
            "\n",
            "           0       1.00      1.00      1.00       353\n",
            "           1       0.99      0.99      0.99       229\n",
            "           2       0.99      0.99      0.99       342\n",
            "\n",
            "    accuracy                           0.99       924\n",
            "   macro avg       0.99      0.99      0.99       924\n",
            "weighted avg       0.99      0.99      0.99       924\n",
            "\n"
          ]
        }
      ]
    },
    {
      "cell_type": "markdown",
      "source": [
        "Tulis hasil evaluasi algoritma yang digunakan, jika Anda menggunakan 2 algoritma, maka bandingkan hasilnya."
      ],
      "metadata": {
        "id": "H4_9OwrsXZlz"
      }
    },
    {
      "cell_type": "markdown",
      "source": [
        "## **c. Tuning Model Klasifikasi (Optional)**"
      ],
      "metadata": {
        "id": "ph9yIYDXEPuB"
      }
    },
    {
      "cell_type": "markdown",
      "source": [
        "Gunakan GridSearchCV, RandomizedSearchCV, atau metode lainnya untuk mencari kombinasi hyperparameter terbaik"
      ],
      "metadata": {
        "id": "-Bikx3LINv5e"
      }
    },
    {
      "cell_type": "code",
      "source": [
        "param_grid = {\n",
        "    'n_estimators': [50, 100, 200],\n",
        "    'max_depth': [None, 10, 20, 30],\n",
        "    'min_samples_split': [2, 5, 10]\n",
        "}\n",
        "grid_search = GridSearchCV(estimator=model, param_grid=param_grid, cv=5, scoring='accuracy')\n",
        "grid_search.fit(X_train, y_train)\n",
        "\n",
        "print(\"\\nParameter Terbaik:\")\n",
        "print(grid_search.best_params_)\n",
        "\n",
        "best_model = grid_search.best_estimator_"
      ],
      "metadata": {
        "id": "winbFzb8NL95",
        "colab": {
          "base_uri": "https://localhost:8080/"
        },
        "outputId": "18682c15-2888-4a72-b5de-9720fc1d517e"
      },
      "execution_count": 7,
      "outputs": [
        {
          "output_type": "stream",
          "name": "stdout",
          "text": [
            "\n",
            "Parameter Terbaik:\n",
            "{'max_depth': None, 'min_samples_split': 2, 'n_estimators': 50}\n"
          ]
        }
      ]
    },
    {
      "cell_type": "markdown",
      "source": [
        "## **d. Evaluasi Model Klasifikasi setelah Tuning (Optional)**"
      ],
      "metadata": {
        "id": "hE7pqlEPEYzI"
      }
    },
    {
      "cell_type": "markdown",
      "source": [
        "Berikut adalah rekomendasi tahapannya.\n",
        "1. Gunakan model dengan hyperparameter terbaik.\n",
        "2. Hitung ulang metrik evaluasi untuk melihat apakah ada peningkatan performa."
      ],
      "metadata": {
        "id": "feaPESoeN0zz"
      }
    },
    {
      "cell_type": "code",
      "source": [
        "y_pred_tuned = best_model.predict(X_test)\n",
        "accuracy_tuned = accuracy_score(y_test, y_pred_tuned)\n",
        "f1_tuned = f1_score(y_test, y_pred_tuned, average='weighted')\n",
        "\n",
        "print(\"\\nEvaluasi Model setelah Tuning:\")\n",
        "print(f\"Accuracy: {accuracy_tuned:.2f}\")\n",
        "print(f\"F1-Score: {f1_tuned:.2f}\")\n",
        "\n",
        "print(\"\\nConfusion Matrix setelah Tuning:\")\n",
        "print(confusion_matrix(y_test, y_pred_tuned))\n",
        "\n",
        "print(\"\\nClassification Report setelah Tuning:\")\n",
        "print(classification_report(y_test, y_pred_tuned))"
      ],
      "metadata": {
        "id": "HTXZRvEeNMb1",
        "colab": {
          "base_uri": "https://localhost:8080/"
        },
        "outputId": "e44532d3-f3bd-4628-8e23-d2205e58763b"
      },
      "execution_count": 9,
      "outputs": [
        {
          "output_type": "stream",
          "name": "stdout",
          "text": [
            "\n",
            "Evaluasi Model setelah Tuning:\n",
            "Accuracy: 0.99\n",
            "F1-Score: 0.99\n",
            "\n",
            "Confusion Matrix setelah Tuning:\n",
            "[[352   0   1]\n",
            " [  0 227   2]\n",
            " [  3   3 336]]\n",
            "\n",
            "Classification Report setelah Tuning:\n",
            "              precision    recall  f1-score   support\n",
            "\n",
            "           0       0.99      1.00      0.99       353\n",
            "           1       0.99      0.99      0.99       229\n",
            "           2       0.99      0.98      0.99       342\n",
            "\n",
            "    accuracy                           0.99       924\n",
            "   macro avg       0.99      0.99      0.99       924\n",
            "weighted avg       0.99      0.99      0.99       924\n",
            "\n"
          ]
        }
      ]
    },
    {
      "cell_type": "markdown",
      "source": [
        "## **e. Analisis Hasil Evaluasi Model Klasifikasi**"
      ],
      "metadata": {
        "id": "ZRsOdm4uEgAW"
      }
    },
    {
      "cell_type": "code",
      "source": [
        "# Analisis hasil evaluasi\n",
        "print(\"\\nAnalisis Hasil Evaluasi:\")\n",
        "print(f\"Accuracy Sebelum Tuning: {accuracy:.2f}\")\n",
        "print(f\"Accuracy Setelah Tuning: {accuracy_tuned:.2f}\")\n",
        "print(f\"F1-Score Sebelum Tuning: {f1:.2f}\")\n",
        "print(f\"F1-Score Setelah Tuning: {f1_tuned:.2f}\")\n",
        "\n",
        "# Identifikasi kelemahan model\n",
        "print(\"\\nIdentifikasi Kelemahan Model:\")\n",
        "print(\"1. Precision atau Recall rendah untuk kelas tertentu.\")\n",
        "print(\"2. Model mungkin mengalami overfitting atau underfitting.\")\n",
        "\n",
        "# Rekomendasi tindakan lanjutan\n",
        "print(\"\\nRekomendasi Tindakan Lanjutan:\")\n",
        "print(\"1. Coba algoritma lain seperti Gradient Boosting atau SVM.\")\n",
        "print(\"2. Kumpulkan data tambahan untuk meningkatkan kualitas dataset.\")\n",
        "print(\"3. Lakukan feature engineering untuk meningkatkan performa model.\")"
      ],
      "metadata": {
        "colab": {
          "base_uri": "https://localhost:8080/"
        },
        "id": "ZjfNI9a6kRv9",
        "outputId": "6236854e-73ff-4aa5-9972-1d2005fa66af"
      },
      "execution_count": 10,
      "outputs": [
        {
          "output_type": "stream",
          "name": "stdout",
          "text": [
            "\n",
            "Analisis Hasil Evaluasi:\n",
            "Accuracy Sebelum Tuning: 0.99\n",
            "Accuracy Setelah Tuning: 0.99\n",
            "F1-Score Sebelum Tuning: 0.99\n",
            "F1-Score Setelah Tuning: 0.99\n",
            "\n",
            "Identifikasi Kelemahan Model:\n",
            "1. Precision atau Recall rendah untuk kelas tertentu.\n",
            "2. Model mungkin mengalami overfitting atau underfitting.\n",
            "\n",
            "Rekomendasi Tindakan Lanjutan:\n",
            "1. Coba algoritma lain seperti Gradient Boosting atau SVM.\n",
            "2. Kumpulkan data tambahan untuk meningkatkan kualitas dataset.\n",
            "3. Lakukan feature engineering untuk meningkatkan performa model.\n"
          ]
        }
      ]
    },
    {
      "cell_type": "markdown",
      "source": [
        "Berikut adalah **rekomendasi** tahapannya.\n",
        "1. Bandingkan hasil evaluasi sebelum dan setelah tuning (jika dilakukan).\n",
        "2. Identifikasi kelemahan model, seperti:\n",
        "  - Precision atau Recall rendah untuk kelas tertentu.\n",
        "  - Apakah model mengalami overfitting atau underfitting?\n",
        "3. Berikan rekomendasi tindakan lanjutan, seperti mengumpulkan data tambahan atau mencoba algoritma lain jika hasil belum memuaskan."
      ],
      "metadata": {
        "id": "Hm3BhSi6N4_l"
      }
    }
  ]
}